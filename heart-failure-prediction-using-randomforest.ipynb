{
 "cells": [
  {
   "cell_type": "code",
   "execution_count": null,
   "metadata": {
    "_cell_guid": "b1076dfc-b9ad-4769-8c92-a6c4dae69d19",
    "_uuid": "8f2839f25d086af736a60e9eeb907d3b93b6e0e5",
    "editable": false
   },
   "outputs": [],
   "source": [
    "import pandas as pd \n",
    "import numpy as np \n",
    "import matplotlib.pyplot as plt \n",
    "from sklearn.preprocessing import LabelEncoder\n",
    "from sklearn.linear_model import LinearRegression\n",
    "from sklearn.linear_model import LogisticRegression\n",
    "from sklearn.svm import SVC\n",
    "from sklearn.model_selection import train_test_split\n",
    "from sklearn.tree import DecisionTreeClassifier\n",
    "from sklearn.ensemble import RandomForestClassifier\n",
    "from sklearn.model_selection import cross_val_score"
   ]
  },
  {
   "cell_type": "code",
   "execution_count": null,
   "metadata": {
    "editable": false
   },
   "outputs": [],
   "source": [
    "#importing the datset\n",
    "df = pd.read_csv('/kaggle/input/heart-failure-prediction/heart.csv')\n",
    "df.head()"
   ]
  },
  {
   "cell_type": "code",
   "execution_count": null,
   "metadata": {
    "editable": false
   },
   "outputs": [],
   "source": [
    "#Labelencoding for the columns which have alphabetical data to numeric data \n",
    "#I feel like labelencoding is far more easier than making a dummy variable\n",
    "sex_le = LabelEncoder()\n",
    "df['Sex'] = sex_le.fit_transform(df.Sex)"
   ]
  },
  {
   "cell_type": "code",
   "execution_count": null,
   "metadata": {
    "editable": false
   },
   "outputs": [],
   "source": [
    "df#M-1,F-0"
   ]
  },
  {
   "cell_type": "code",
   "execution_count": null,
   "metadata": {
    "editable": false
   },
   "outputs": [],
   "source": [
    "# printing the unique elements in the particular columns \n",
    "# so that we can say which number is representing which schema \n",
    "df.ChestPainType.unique() "
   ]
  },
  {
   "cell_type": "code",
   "execution_count": null,
   "metadata": {
    "editable": false
   },
   "outputs": [],
   "source": [
    "#Labelencoding for the columns which have alphabetical data to numeric data \n",
    "ChestPainType_le = LabelEncoder()\n",
    "df['ChestPainType'] = ChestPainType_le.fit_transform(df.ChestPainType)"
   ]
  },
  {
   "cell_type": "code",
   "execution_count": null,
   "metadata": {
    "editable": false
   },
   "outputs": [],
   "source": [
    "df"
   ]
  },
  {
   "cell_type": "code",
   "execution_count": null,
   "metadata": {
    "editable": false
   },
   "outputs": [],
   "source": [
    "#ATA-1,NAP-2,ASY-0,TA-3\n",
    "# printing the unique elements in the particular columns \n",
    "# so that we can say which number is representing which schema \n",
    "df.ChestPainType.unique()"
   ]
  },
  {
   "cell_type": "code",
   "execution_count": null,
   "metadata": {
    "editable": false
   },
   "outputs": [],
   "source": [
    "# printing the unique elements in the particular columns \n",
    "# so that we can say which number is representing which schema \n",
    "df.RestingECG.unique()"
   ]
  },
  {
   "cell_type": "code",
   "execution_count": null,
   "metadata": {
    "editable": false
   },
   "outputs": [],
   "source": [
    "#Labelencoding for the columns which have alphabetical data to numeric data \n",
    "RestingECG_le = LabelEncoder()\n",
    "df['RestingECG'] = RestingECG_le.fit_transform(df.RestingECG)"
   ]
  },
  {
   "cell_type": "code",
   "execution_count": null,
   "metadata": {
    "editable": false
   },
   "outputs": [],
   "source": [
    "df"
   ]
  },
  {
   "cell_type": "code",
   "execution_count": null,
   "metadata": {
    "editable": false
   },
   "outputs": [],
   "source": [
    "#Normal-1,ST-2,LVH-0\n",
    "df.RestingECG.unique()"
   ]
  },
  {
   "cell_type": "code",
   "execution_count": null,
   "metadata": {
    "editable": false
   },
   "outputs": [],
   "source": [
    "# printing the unique elements in the particular columns \n",
    "# so that we can say which number is representing which schema \n",
    "df.ExerciseAngina.unique()"
   ]
  },
  {
   "cell_type": "code",
   "execution_count": null,
   "metadata": {
    "editable": false
   },
   "outputs": [],
   "source": [
    "#Labelencoding for the columns which have alphabetical data to numeric data \n",
    "ExerciseAngina_le = LabelEncoder()\n",
    "df['ExerciseAngina'] = ExerciseAngina_le.fit_transform(df.ExerciseAngina)"
   ]
  },
  {
   "cell_type": "code",
   "execution_count": null,
   "metadata": {
    "editable": false
   },
   "outputs": [],
   "source": [
    "df"
   ]
  },
  {
   "cell_type": "code",
   "execution_count": null,
   "metadata": {
    "editable": false
   },
   "outputs": [],
   "source": [
    "#N-0,Y-1\n",
    "df.ExerciseAngina.unique()"
   ]
  },
  {
   "cell_type": "code",
   "execution_count": null,
   "metadata": {
    "editable": false
   },
   "outputs": [],
   "source": [
    "# printing the unique elements in the particular columns \n",
    "# so that we can say which number is representing which schema \n",
    "df.ST_Slope.unique()"
   ]
  },
  {
   "cell_type": "code",
   "execution_count": null,
   "metadata": {
    "editable": false
   },
   "outputs": [],
   "source": [
    "#Labelencoding for the columns which have alphabetical data to numeric data \n",
    "ST_Slope_le = LabelEncoder()\n",
    "df['ST_Slope'] = ST_Slope_le.fit_transform(df.ST_Slope)"
   ]
  },
  {
   "cell_type": "code",
   "execution_count": null,
   "metadata": {
    "editable": false
   },
   "outputs": [],
   "source": [
    "#Up-2,Flat-1,Down-0\n",
    "df.ST_Slope.unique()"
   ]
  },
  {
   "cell_type": "code",
   "execution_count": null,
   "metadata": {
    "editable": false
   },
   "outputs": [],
   "source": [
    "df.head()"
   ]
  },
  {
   "cell_type": "code",
   "execution_count": null,
   "metadata": {
    "editable": false
   },
   "outputs": [],
   "source": [
    "#making the input and target variable X-input , Y-target \n",
    "X = df.drop('HeartDisease',axis='columns')\n",
    "y = df.HeartDisease"
   ]
  },
  {
   "cell_type": "code",
   "execution_count": null,
   "metadata": {
    "editable": false
   },
   "outputs": [],
   "source": [
    "#splitting the datasets to traing and testing (20% for testing and 80% for training)\n",
    "X_train, X_test, y_train, y_test = train_test_split(X,y,test_size=0.2)"
   ]
  },
  {
   "cell_type": "markdown",
   "metadata": {
    "editable": false
   },
   "source": [
    "**Making 5 models to know which models works better among the 5**"
   ]
  },
  {
   "cell_type": "markdown",
   "metadata": {
    "editable": false
   },
   "source": [
    "**1.Linear Regression**"
   ]
  },
  {
   "cell_type": "code",
   "execution_count": null,
   "metadata": {
    "editable": false
   },
   "outputs": [],
   "source": [
    "#1.linear regresion model\n",
    "model_lr = LinearRegression() "
   ]
  },
  {
   "cell_type": "code",
   "execution_count": null,
   "metadata": {
    "editable": false
   },
   "outputs": [],
   "source": [
    "#fitting the training datasets to the model\n",
    "model_lr.fit(X_train,y_train)"
   ]
  },
  {
   "cell_type": "code",
   "execution_count": null,
   "metadata": {
    "editable": false
   },
   "outputs": [],
   "source": [
    "# predicting the score of the model\n",
    "model_lr.score(X_test,y_test)\n",
    "#47%"
   ]
  },
  {
   "cell_type": "markdown",
   "metadata": {
    "editable": false
   },
   "source": [
    "**2.Logistic Regression**"
   ]
  },
  {
   "cell_type": "code",
   "execution_count": null,
   "metadata": {
    "editable": false
   },
   "outputs": [],
   "source": [
    "model_LoR = LogisticRegression()"
   ]
  },
  {
   "cell_type": "code",
   "execution_count": null,
   "metadata": {
    "editable": false
   },
   "outputs": [],
   "source": [
    "#fitting the training datasets to the model\n",
    "model_LoR.fit(X_train,y_train)"
   ]
  },
  {
   "cell_type": "code",
   "execution_count": null,
   "metadata": {
    "editable": false
   },
   "outputs": [],
   "source": [
    "# predicting the score of the model\n",
    "model_LoR.score(X_test,y_test)\n",
    "#85%"
   ]
  },
  {
   "cell_type": "markdown",
   "metadata": {
    "editable": false
   },
   "source": [
    "**3.Support Vector Machine**"
   ]
  },
  {
   "cell_type": "code",
   "execution_count": null,
   "metadata": {
    "editable": false
   },
   "outputs": [],
   "source": [
    "model_svm = SVC()"
   ]
  },
  {
   "cell_type": "code",
   "execution_count": null,
   "metadata": {
    "editable": false
   },
   "outputs": [],
   "source": [
    "#fitting the training datasets to the model\n",
    "model_svm.fit(X_train,y_train)"
   ]
  },
  {
   "cell_type": "code",
   "execution_count": null,
   "metadata": {
    "editable": false
   },
   "outputs": [],
   "source": [
    "# predicting the score of the model\n",
    "model_svm.score(X_test,y_test)\n",
    "#76%"
   ]
  },
  {
   "cell_type": "markdown",
   "metadata": {
    "editable": false
   },
   "source": [
    "**4.Decision Tree Classifier**"
   ]
  },
  {
   "cell_type": "code",
   "execution_count": null,
   "metadata": {
    "editable": false
   },
   "outputs": [],
   "source": [
    "model_DTC = DecisionTreeClassifier()"
   ]
  },
  {
   "cell_type": "code",
   "execution_count": null,
   "metadata": {
    "editable": false
   },
   "outputs": [],
   "source": [
    "#fitting the training datasets to the model\n",
    "model_DTC.fit(X_train,y_train)"
   ]
  },
  {
   "cell_type": "code",
   "execution_count": null,
   "metadata": {
    "editable": false
   },
   "outputs": [],
   "source": [
    "# predicting the score of the model\n",
    "model_DTC.score(X_test,y_test)\n",
    "#78.8%"
   ]
  },
  {
   "cell_type": "code",
   "execution_count": null,
   "metadata": {
    "editable": false
   },
   "outputs": [],
   "source": [
    "model_RFC = RandomForestClassifier()"
   ]
  },
  {
   "cell_type": "code",
   "execution_count": null,
   "metadata": {
    "editable": false
   },
   "outputs": [],
   "source": [
    "#fitting the training datasets to the model\n",
    "model_RFC.fit(X_train,y_train)"
   ]
  },
  {
   "cell_type": "code",
   "execution_count": null,
   "metadata": {
    "editable": false
   },
   "outputs": [],
   "source": [
    "# predicting the score of the model\n",
    "model_RFC.score(X_test,y_test)\n",
    "#85%"
   ]
  },
  {
   "cell_type": "markdown",
   "metadata": {
    "editable": false
   },
   "source": [
    "**Checking which model is best using k-fold cross validation**"
   ]
  },
  {
   "cell_type": "code",
   "execution_count": null,
   "metadata": {
    "editable": false
   },
   "outputs": [],
   "source": [
    "#k-fold cross valdation scores of Linear Regression model\n",
    "cross_val_score(model_lr,X_train,y_train)"
   ]
  },
  {
   "cell_type": "code",
   "execution_count": null,
   "metadata": {
    "editable": false
   },
   "outputs": [],
   "source": [
    "#k-fold cross valdation scores of Logistic Regression model\n",
    "cross_val_score(model_LoR,X_train,y_train)"
   ]
  },
  {
   "cell_type": "code",
   "execution_count": null,
   "metadata": {
    "editable": false
   },
   "outputs": [],
   "source": [
    "#k-fold cross valdation scores of support vector machine model\n",
    "cross_val_score(model_svm,X_train,y_train)"
   ]
  },
  {
   "cell_type": "code",
   "execution_count": null,
   "metadata": {
    "editable": false
   },
   "outputs": [],
   "source": [
    "#k-fold cross valdation scores of Decision tree classifier model\n",
    "cross_val_score(model_DTC,X_train,y_train)"
   ]
  },
  {
   "cell_type": "code",
   "execution_count": null,
   "metadata": {
    "editable": false
   },
   "outputs": [],
   "source": [
    "#k-fold cross valdation scores of Random forest classifier model\n",
    "cross_val_score(model_RFC,X_train,y_train)"
   ]
  },
  {
   "cell_type": "code",
   "execution_count": null,
   "metadata": {
    "editable": false
   },
   "outputs": [],
   "source": [
    "#M-1,F-0\n",
    "#ATA-1,NAP-2,ASY-0,TA-3\n",
    "#Normal-1,ST-2,LVH-0\n",
    "#N-0,Y-1\n",
    "#Up-2,Flat-1,Down-0\n",
    "#prediction\n",
    "Age = int(input(\"Enter Your Age : \"))\n",
    "Sex = input(\"Enter Your Sex : \")\n",
    "sex_1=0\n",
    "if(Sex=='male' or Sex=='male'):\n",
    "    sex_1 = 1\n",
    "if(Sex=='Female' or Sex=='female'):\n",
    "    sex_1=0\n",
    "painType = input(\"Enter Your Chest pain Type \\n(i)Typical Angina\\n(ii)Atypical Angina\\n(iii)Non-Anginal Pain\\n(iv)Asymptomatic\\n\")\n",
    "paintype_1=0\n",
    "if(painType=='Typical Angina' or painType=='typical angina'):\n",
    "    paintype_1 = 3\n",
    "if(painType=='Atypical Angina' or painType=='atypical angina'):\n",
    "    paintype_1 = 1\n",
    "if(painType=='Non-Anginal Pain' or painType=='non-anginal pain'):\n",
    "    paintype_1 = 2\n",
    "if(painType=='Asymptomatic' or painType=='Asymptomaticn'):\n",
    "    paintype_1 = 0\n",
    "bp = int(input(\"Enter your Resting BP level : \"))\n",
    "Cholesterol = int(input(\"Enter your Cholesterol level\"))\n",
    "FastingBS = int(input(\"Enter your Fasting Blood Sugar level : \")) \n",
    "RestingECG = input(\"Enter your Resting ECG \\n(i)Normal\\n(ii)having ST-T wave abnormality(type shortly as ST)\\n(iii)showing probable or definite left ventricular hypertrophy1(type shortly as LVH)\\n \")\n",
    "restingecg_1=0\n",
    "if(RestingECG=='Normal' or RestingECG=='normal'):\n",
    "    restingecg_1 = 1\n",
    "if(RestingECG=='ST' or RestingECG=='st'):\n",
    "    restingecg_1 = 2\n",
    "if(RestingECG=='LVH' or RestingECG=='LVH'):\n",
    "    restingecg_1 = 0\n",
    "MaxHR = int(input(\"Enter your Maximum Heart Rate level : \"))\n",
    "ExerciseAngina = input(\"Do you practice Exercise Angina\\n(i)Yes(y)\\n(ii)No\\n\")\n",
    "exerciseangina_1=0\n",
    "if(ExerciseAngina=='Yes' or ExerciseAngina=='Y' or ExerciseAngina=='yes' or ExerciseAngina=='y'):\n",
    "    exerciseangina_1=1\n",
    "if(ExerciseAngina=='No' or ExerciseAngina=='N' or ExerciseAngina=='no' or ExerciseAngina=='n'):\n",
    "    exerciseangina_1=0\n",
    "Oldpeak = int(input(\"Enter your oldpeek value : \"))\n",
    "ST_Slope = input(\"Enter your ST Slope\\n(i)Up\\n(ii)Flat\\n(iii)Down\\n \")\n",
    "st_slope_1=0\n",
    "if(ST_Slope=='Up' or ST_Slope=='up'):\n",
    "    st_slope_1=2\n",
    "if(ST_Slope=='Flat' or ST_Slope=='flat'):\n",
    "    st_slope_1=1\n",
    "if(ST_Slope=='Down' or ST_Slope=='down'):\n",
    "    st_slope_1=0"
   ]
  },
  {
   "cell_type": "markdown",
   "metadata": {
    "editable": false
   },
   "source": [
    "**According to the scores Rndom forest classifier has good scores when compared with others**"
   ]
  },
  {
   "cell_type": "code",
   "execution_count": null,
   "metadata": {
    "editable": false
   },
   "outputs": [],
   "source": [
    "predict = model_RFC.predict([[Age,sex_1,paintype_1,bp,Cholesterol,FastingBS,restingecg_1,MaxHR,exerciseangina_1,Oldpeak,st_slope_1]])\n",
    "if(predict==[0]):\n",
    "    print('Heart failure may not occur')\n",
    "else:\n",
    "    print('Heart failure can occur')"
   ]
  }
 ],
 "metadata": {
  "kernelspec": {
   "display_name": "Python 3 (ipykernel)",
   "language": "python",
   "name": "python3"
  },
  "language_info": {
   "codemirror_mode": {
    "name": "ipython",
    "version": 3
   },
   "file_extension": ".py",
   "mimetype": "text/x-python",
   "name": "python",
   "nbconvert_exporter": "python",
   "pygments_lexer": "ipython3",
   "version": "3.9.7"
  }
 },
 "nbformat": 4,
 "nbformat_minor": 4
}
